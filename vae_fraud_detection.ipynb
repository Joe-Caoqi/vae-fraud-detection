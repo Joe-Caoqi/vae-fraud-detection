{
 "cells": [
  {
   "cell_type": "markdown",
   "metadata": {},
   "source": [
    "# VAE for Fraud Detection"
   ]
  },
  {
   "cell_type": "markdown",
   "metadata": {},
   "source": [
    "* Dataset: https://www.kaggle.com/mlg-ulb/creditcardfraud#creditcard.csv"
   ]
  },
  {
   "cell_type": "code",
   "execution_count": 1,
   "metadata": {},
   "outputs": [],
   "source": [
    "import pandas as pd\n",
    "import os\n",
    "import numpy as np\n",
    "import matplotlib.pyplot as plt\n",
    "\n",
    "from sklearn.preprocessing import StandardScaler\n",
    "from sklearn.model_selection import train_test_split\n",
    "from sklearn.metrics import confusion_matrix, precision_recall_curve\n",
    "from sklearn.metrics import recall_score, classification_report, auc, roc_curve, roc_auc_score\n",
    "from sklearn.metrics import precision_recall_fscore_support, f1_score\n",
    "from sklearn.ensemble import RandomForestClassifier\n",
    "from sklearn.metrics import confusion_matrix\n",
    "\n",
    "import torch\n",
    "import torch.nn as nn\n",
    "import torch.nn.functional as F"
   ]
  },
  {
   "cell_type": "markdown",
   "metadata": {},
   "source": [
    "## Data Processing\n",
    "* Convert time to real value\n",
    "* std.scaler on `Time` and `Amount`"
   ]
  },
  {
   "cell_type": "code",
   "execution_count": 3,
   "metadata": {},
   "outputs": [],
   "source": [
    "df = pd.read_csv(\"creditcard.csv\")\n",
    "df.loc[:,\"Time\"] = df[\"Time\"].apply(lambda x : x / 3600 % 24)\n",
    "df.loc[:,'Amount'] = np.log(df['Amount']+1)\n",
    "\n",
    "df_scaled = df\n",
    "df_scaled['Time'] = StandardScaler().fit_transform(df_scaled['Time'].values.reshape(-1, 1))\n",
    "df_scaled['Amount'] = StandardScaler().fit_transform(df_scaled['Amount'].values.reshape(-1, 1))\n",
    "\n",
    "df_scaled_normal = df_scaled[df_scaled.Class == 0]\n",
    "df_scaled_fraud = df_scaled[df_scaled.Class == 1]"
   ]
  },
  {
   "cell_type": "code",
   "execution_count": 88,
   "metadata": {},
   "outputs": [
    {
     "name": "stdout",
     "output_type": "stream",
     "text": [
      "percent of fraud transaction data 0.17%\n"
     ]
    }
   ],
   "source": [
    "print('percent of fraud transaction data %.2f%%' %(df_scaled_fraud.shape[0]/df.shape[0]*100))"
   ]
  },
  {
   "cell_type": "code",
   "execution_count": 5,
   "metadata": {},
   "outputs": [
    {
     "data": {
      "text/html": [
       "<div>\n",
       "<style scoped>\n",
       "    .dataframe tbody tr th:only-of-type {\n",
       "        vertical-align: middle;\n",
       "    }\n",
       "\n",
       "    .dataframe tbody tr th {\n",
       "        vertical-align: top;\n",
       "    }\n",
       "\n",
       "    .dataframe thead th {\n",
       "        text-align: right;\n",
       "    }\n",
       "</style>\n",
       "<table border=\"1\" class=\"dataframe\">\n",
       "  <thead>\n",
       "    <tr style=\"text-align: right;\">\n",
       "      <th></th>\n",
       "      <th>Time</th>\n",
       "      <th>V1</th>\n",
       "      <th>V2</th>\n",
       "      <th>V3</th>\n",
       "      <th>V4</th>\n",
       "      <th>V5</th>\n",
       "      <th>V6</th>\n",
       "      <th>V7</th>\n",
       "      <th>V8</th>\n",
       "      <th>V9</th>\n",
       "      <th>...</th>\n",
       "      <th>V21</th>\n",
       "      <th>V22</th>\n",
       "      <th>V23</th>\n",
       "      <th>V24</th>\n",
       "      <th>V25</th>\n",
       "      <th>V26</th>\n",
       "      <th>V27</th>\n",
       "      <th>V28</th>\n",
       "      <th>Amount</th>\n",
       "      <th>Class</th>\n",
       "    </tr>\n",
       "  </thead>\n",
       "  <tbody>\n",
       "    <tr>\n",
       "      <td>0</td>\n",
       "      <td>-2.486373</td>\n",
       "      <td>-1.359807</td>\n",
       "      <td>-0.072781</td>\n",
       "      <td>2.536347</td>\n",
       "      <td>1.378155</td>\n",
       "      <td>-0.338321</td>\n",
       "      <td>0.462388</td>\n",
       "      <td>0.239599</td>\n",
       "      <td>0.098698</td>\n",
       "      <td>0.363787</td>\n",
       "      <td>...</td>\n",
       "      <td>-0.018307</td>\n",
       "      <td>0.277838</td>\n",
       "      <td>-0.110474</td>\n",
       "      <td>0.066928</td>\n",
       "      <td>0.128539</td>\n",
       "      <td>-0.189115</td>\n",
       "      <td>0.133558</td>\n",
       "      <td>-0.021053</td>\n",
       "      <td>1.124303</td>\n",
       "      <td>0</td>\n",
       "    </tr>\n",
       "    <tr>\n",
       "      <td>1</td>\n",
       "      <td>-2.486373</td>\n",
       "      <td>1.191857</td>\n",
       "      <td>0.266151</td>\n",
       "      <td>0.166480</td>\n",
       "      <td>0.448154</td>\n",
       "      <td>0.060018</td>\n",
       "      <td>-0.082361</td>\n",
       "      <td>-0.078803</td>\n",
       "      <td>0.085102</td>\n",
       "      <td>-0.255425</td>\n",
       "      <td>...</td>\n",
       "      <td>-0.225775</td>\n",
       "      <td>-0.638672</td>\n",
       "      <td>0.101288</td>\n",
       "      <td>-0.339846</td>\n",
       "      <td>0.167170</td>\n",
       "      <td>0.125895</td>\n",
       "      <td>-0.008983</td>\n",
       "      <td>0.014724</td>\n",
       "      <td>-1.114639</td>\n",
       "      <td>0</td>\n",
       "    </tr>\n",
       "    <tr>\n",
       "      <td>2</td>\n",
       "      <td>-2.486326</td>\n",
       "      <td>-1.358354</td>\n",
       "      <td>-1.340163</td>\n",
       "      <td>1.773209</td>\n",
       "      <td>0.379780</td>\n",
       "      <td>-0.503198</td>\n",
       "      <td>1.800499</td>\n",
       "      <td>0.791461</td>\n",
       "      <td>0.247676</td>\n",
       "      <td>-1.514654</td>\n",
       "      <td>...</td>\n",
       "      <td>0.247998</td>\n",
       "      <td>0.771679</td>\n",
       "      <td>0.909412</td>\n",
       "      <td>-0.689281</td>\n",
       "      <td>-0.327642</td>\n",
       "      <td>-0.139097</td>\n",
       "      <td>-0.055353</td>\n",
       "      <td>-0.059752</td>\n",
       "      <td>1.682368</td>\n",
       "      <td>0</td>\n",
       "    </tr>\n",
       "    <tr>\n",
       "      <td>3</td>\n",
       "      <td>-2.486326</td>\n",
       "      <td>-0.966272</td>\n",
       "      <td>-0.185226</td>\n",
       "      <td>1.792993</td>\n",
       "      <td>-0.863291</td>\n",
       "      <td>-0.010309</td>\n",
       "      <td>1.247203</td>\n",
       "      <td>0.237609</td>\n",
       "      <td>0.377436</td>\n",
       "      <td>-1.387024</td>\n",
       "      <td>...</td>\n",
       "      <td>-0.108300</td>\n",
       "      <td>0.005274</td>\n",
       "      <td>-0.190321</td>\n",
       "      <td>-1.175575</td>\n",
       "      <td>0.647376</td>\n",
       "      <td>-0.221929</td>\n",
       "      <td>0.062723</td>\n",
       "      <td>0.061458</td>\n",
       "      <td>1.009339</td>\n",
       "      <td>0</td>\n",
       "    </tr>\n",
       "    <tr>\n",
       "      <td>4</td>\n",
       "      <td>-2.486278</td>\n",
       "      <td>-1.158233</td>\n",
       "      <td>0.877737</td>\n",
       "      <td>1.548718</td>\n",
       "      <td>0.403034</td>\n",
       "      <td>-0.407193</td>\n",
       "      <td>0.095921</td>\n",
       "      <td>0.592941</td>\n",
       "      <td>-0.270533</td>\n",
       "      <td>0.817739</td>\n",
       "      <td>...</td>\n",
       "      <td>-0.009431</td>\n",
       "      <td>0.798278</td>\n",
       "      <td>-0.137458</td>\n",
       "      <td>0.141267</td>\n",
       "      <td>-0.206010</td>\n",
       "      <td>0.502292</td>\n",
       "      <td>0.219422</td>\n",
       "      <td>0.215153</td>\n",
       "      <td>0.670241</td>\n",
       "      <td>0</td>\n",
       "    </tr>\n",
       "  </tbody>\n",
       "</table>\n",
       "<p>5 rows × 31 columns</p>\n",
       "</div>"
      ],
      "text/plain": [
       "       Time        V1        V2        V3        V4        V5        V6  \\\n",
       "0 -2.486373 -1.359807 -0.072781  2.536347  1.378155 -0.338321  0.462388   \n",
       "1 -2.486373  1.191857  0.266151  0.166480  0.448154  0.060018 -0.082361   \n",
       "2 -2.486326 -1.358354 -1.340163  1.773209  0.379780 -0.503198  1.800499   \n",
       "3 -2.486326 -0.966272 -0.185226  1.792993 -0.863291 -0.010309  1.247203   \n",
       "4 -2.486278 -1.158233  0.877737  1.548718  0.403034 -0.407193  0.095921   \n",
       "\n",
       "         V7        V8        V9  ...       V21       V22       V23       V24  \\\n",
       "0  0.239599  0.098698  0.363787  ... -0.018307  0.277838 -0.110474  0.066928   \n",
       "1 -0.078803  0.085102 -0.255425  ... -0.225775 -0.638672  0.101288 -0.339846   \n",
       "2  0.791461  0.247676 -1.514654  ...  0.247998  0.771679  0.909412 -0.689281   \n",
       "3  0.237609  0.377436 -1.387024  ... -0.108300  0.005274 -0.190321 -1.175575   \n",
       "4  0.592941 -0.270533  0.817739  ... -0.009431  0.798278 -0.137458  0.141267   \n",
       "\n",
       "        V25       V26       V27       V28    Amount  Class  \n",
       "0  0.128539 -0.189115  0.133558 -0.021053  1.124303      0  \n",
       "1  0.167170  0.125895 -0.008983  0.014724 -1.114639      0  \n",
       "2 -0.327642 -0.139097 -0.055353 -0.059752  1.682368      0  \n",
       "3  0.647376 -0.221929  0.062723  0.061458  1.009339      0  \n",
       "4 -0.206010  0.502292  0.219422  0.215153  0.670241      0  \n",
       "\n",
       "[5 rows x 31 columns]"
      ]
     },
     "execution_count": 5,
     "metadata": {},
     "output_type": "execute_result"
    }
   ],
   "source": [
    "df_scaled.head()"
   ]
  },
  {
   "cell_type": "code",
   "execution_count": 6,
   "metadata": {},
   "outputs": [],
   "source": [
    "train_normal, test_normal = train_test_split(df_scaled_normal, test_size=0.2)\n",
    "train_normal = train_normal.drop(['Class'], axis=1) #drop the class column\n",
    "test_normal = test_normal.drop(['Class'], axis=1) #drop the class column\n",
    "test_fraud = df_scaled_fraud.drop(['Class'], axis=1)\n",
    "\n",
    "train_normal = train_normal.values #transform to ndarray\n",
    "test_normal = test_normal.values\n",
    "test_fraud = test_fraud.values"
   ]
  },
  {
   "cell_type": "markdown",
   "metadata": {},
   "source": [
    "## VAE Model\n",
    "* Assume input data follows normal distribution and each features are independent.\n",
    "* Output of decoder is a vector of reconstructed mean  and a vector of reconstructed log. variance"
   ]
  },
  {
   "cell_type": "code",
   "execution_count": 38,
   "metadata": {},
   "outputs": [],
   "source": [
    "# VAE model\n",
    "class VAE(nn.Module):\n",
    "    def __init__(self, input_size, h_dim, z_dim):\n",
    "        super().__init__()                    # intialize nn.Module, this works\n",
    "        self.fc_e1 = nn.Linear(input_size, h_dim)\n",
    "        self.fc_e2a = nn.Linear(h_dim, z_dim) # latent mean vector\n",
    "        self.fc_e2b = nn.Linear(h_dim, z_dim) # latent log variance vector\n",
    "        \n",
    "        self.fc_d1 = nn.Linear(z_dim, h_dim)         # for first layer of decoder\n",
    "        self.fc_d2a = nn.Linear(h_dim, input_size)   # second layer of decoder, reconstructed mean vector\n",
    "        self.fc_d2b = nn.Linear(h_dim, input_size)   # second layer of decoder, reconstructed log.var vector\n",
    "        \n",
    "    # Encoding\n",
    "    def encode(self, x):\n",
    "        h = F.relu(self.fc_e1(x))             # could be tanh\n",
    "        return self.fc_e2a(h), self.fc_e2b(h) # one for mean and one for log_variance\n",
    "    \n",
    "    # Reparameterizing trick, Generate Random Latent Vector\n",
    "    def reparameterize(self, mu, log_var):\n",
    "        std_dev = torch.exp(log_var/2)  # convert log_variance to std_dev\n",
    "        eps = torch.randn_like(std_dev) # sampling from N(0,1)\n",
    "        return mu + eps * std_dev\n",
    "        \n",
    "    # Decoding\n",
    "    def decode(self, z):\n",
    "        \"\"\"\n",
    "        suppose data follows a multi-variate normal distribution,\n",
    "        decoder reconstruct the mean and log.variance\n",
    "        \"\"\"\n",
    "        h = F.relu(self.fc_d1(z))\n",
    "        mu_reconst = self.fc_d2a(h)\n",
    "        log_var_reconst = self.fc_d2b(h)\n",
    "        # could reconstruct a sample from N(mu,var) by utilize reparameterize method\n",
    "        # here we don't use it\n",
    "#         x_reconst = self.reparameterize(mu_reconst, log_var_reconst)\n",
    "        return mu_reconst, log_var_reconst\n",
    "    \n",
    "    # foward propagation\n",
    "    def forward(self, x):\n",
    "        mu_latent, log_var_latent = self.encode(x)   #notice the output of encoder is mean and log_variance\n",
    "        z = self.reparameterize(mu_latent, log_var_latent)\n",
    "        mu_reconst, log_var_reconst = self.decode(z)\n",
    "        return mu_latent, log_var_latent, mu_reconst, log_var_reconst\n",
    "    \n",
    "    "
   ]
  },
  {
   "cell_type": "markdown",
   "metadata": {},
   "source": [
    "## Training\n",
    "* Define reconstruction loss as negative loglikelihood     \n",
    "  $$L(\\tilde{\\mathbf{x}}) = \\ln (|\\mathbf{\\Sigma}_{\\theta^*}|)+(\\tilde{\\mathbf{x}}-\\boldsymbol{\\mu}_{\\theta^*})^{\\top} \\mathbf{\\Sigma}_{\\theta^*}^{-1}(\\tilde{\\mathbf{x}}-\\boldsymbol{\\mu}_{\\theta^*})$$\n",
    "* Ref. for reconstruction loss\n",
    "* https://discuss.pytorch.org/t/multivariate-gaussian-variational-autoencoder-the-decoder-part/58235"
   ]
  },
  {
   "cell_type": "code",
   "execution_count": 92,
   "metadata": {},
   "outputs": [],
   "source": [
    "def calculate_reconst_loss(x, mu_reconst, log_var_reconst):\n",
    "    # neg log likelihood of x under normal\n",
    "    reconst_loss = 0.5 * torch.sum(30 * np.log(2 * np.pi) + log_var_reconst + (x - mu_reconst)**2 / torch.exp(log_var_reconst))\n",
    "    return reconst_loss"
   ]
  },
  {
   "cell_type": "code",
   "execution_count": 40,
   "metadata": {
    "scrolled": true
   },
   "outputs": [
    {
     "name": "stdout",
     "output_type": "stream",
     "text": [
      "Size of Training Data: (227452, 30)\n",
      "Epoch[1/50], Step [1/889], Reconst Loss: 844.20, KL Div: 0.48, ELBO: -844.68\n",
      "Epoch[1/50], Step [101/889], Reconst Loss: 840.70, KL Div: 0.23, ELBO: -840.93\n",
      "Epoch[1/50], Step [201/889], Reconst Loss: 837.91, KL Div: 0.22, ELBO: -838.12\n",
      "Epoch[1/50], Step [301/889], Reconst Loss: 841.29, KL Div: 0.31, ELBO: -841.60\n",
      "Epoch[1/50], Step [401/889], Reconst Loss: 839.84, KL Div: 0.56, ELBO: -840.40\n",
      "Epoch[1/50], Step [501/889], Reconst Loss: 833.37, KL Div: 1.15, ELBO: -834.52\n",
      "Epoch[1/50], Step [601/889], Reconst Loss: 833.85, KL Div: 1.42, ELBO: -835.27\n",
      "Epoch[1/50], Step [701/889], Reconst Loss: 831.56, KL Div: 1.66, ELBO: -833.23\n",
      "Epoch[1/50], Step [801/889], Reconst Loss: 829.39, KL Div: 1.85, ELBO: -831.24\n",
      "Epoch[2/50], Step [1/889], Reconst Loss: 829.84, KL Div: 1.95, ELBO: -831.78\n",
      "Epoch[2/50], Step [101/889], Reconst Loss: 829.40, KL Div: 2.31, ELBO: -831.72\n",
      "Epoch[2/50], Step [201/889], Reconst Loss: 828.54, KL Div: 2.61, ELBO: -831.15\n",
      "Epoch[2/50], Step [301/889], Reconst Loss: 827.97, KL Div: 2.66, ELBO: -830.63\n",
      "Epoch[2/50], Step [401/889], Reconst Loss: 827.40, KL Div: 3.01, ELBO: -830.40\n",
      "Epoch[2/50], Step [501/889], Reconst Loss: 826.46, KL Div: 3.41, ELBO: -829.88\n",
      "Epoch[2/50], Step [601/889], Reconst Loss: 827.59, KL Div: 3.22, ELBO: -830.82\n",
      "Epoch[2/50], Step [701/889], Reconst Loss: 826.05, KL Div: 3.51, ELBO: -829.56\n",
      "Epoch[2/50], Step [801/889], Reconst Loss: 826.53, KL Div: 3.46, ELBO: -829.98\n",
      "Epoch[3/50], Step [1/889], Reconst Loss: 824.38, KL Div: 3.72, ELBO: -828.10\n",
      "Epoch[3/50], Step [101/889], Reconst Loss: 827.32, KL Div: 3.77, ELBO: -831.08\n",
      "Epoch[3/50], Step [201/889], Reconst Loss: 823.75, KL Div: 4.01, ELBO: -827.76\n",
      "Epoch[3/50], Step [301/889], Reconst Loss: 823.89, KL Div: 4.00, ELBO: -827.89\n",
      "Epoch[3/50], Step [401/889], Reconst Loss: 824.44, KL Div: 4.11, ELBO: -828.55\n",
      "Epoch[3/50], Step [501/889], Reconst Loss: 824.75, KL Div: 3.94, ELBO: -828.69\n",
      "Epoch[3/50], Step [601/889], Reconst Loss: 824.94, KL Div: 4.55, ELBO: -829.49\n",
      "Epoch[3/50], Step [701/889], Reconst Loss: 824.89, KL Div: 4.44, ELBO: -829.32\n",
      "Epoch[3/50], Step [801/889], Reconst Loss: 823.88, KL Div: 4.43, ELBO: -828.30\n",
      "Epoch[4/50], Step [1/889], Reconst Loss: 822.92, KL Div: 4.53, ELBO: -827.45\n",
      "Epoch[4/50], Step [101/889], Reconst Loss: 824.17, KL Div: 4.53, ELBO: -828.70\n",
      "Epoch[4/50], Step [201/889], Reconst Loss: 823.47, KL Div: 4.79, ELBO: -828.26\n",
      "Epoch[4/50], Step [301/889], Reconst Loss: 823.18, KL Div: 4.44, ELBO: -827.61\n",
      "Epoch[4/50], Step [401/889], Reconst Loss: 823.58, KL Div: 4.84, ELBO: -828.42\n",
      "Epoch[4/50], Step [501/889], Reconst Loss: 823.05, KL Div: 4.81, ELBO: -827.86\n",
      "Epoch[4/50], Step [601/889], Reconst Loss: 823.61, KL Div: 4.93, ELBO: -828.54\n",
      "Epoch[4/50], Step [701/889], Reconst Loss: 824.48, KL Div: 4.78, ELBO: -829.26\n",
      "Epoch[4/50], Step [801/889], Reconst Loss: 823.53, KL Div: 4.57, ELBO: -828.10\n",
      "Epoch[5/50], Step [1/889], Reconst Loss: 824.31, KL Div: 4.76, ELBO: -829.07\n",
      "Epoch[5/50], Step [101/889], Reconst Loss: 822.25, KL Div: 5.07, ELBO: -827.31\n",
      "Epoch[5/50], Step [201/889], Reconst Loss: 823.77, KL Div: 4.71, ELBO: -828.48\n",
      "Epoch[5/50], Step [301/889], Reconst Loss: 822.15, KL Div: 5.06, ELBO: -827.20\n",
      "Epoch[5/50], Step [401/889], Reconst Loss: 822.10, KL Div: 5.28, ELBO: -827.37\n",
      "Epoch[5/50], Step [501/889], Reconst Loss: 823.80, KL Div: 5.20, ELBO: -829.00\n",
      "Epoch[5/50], Step [601/889], Reconst Loss: 822.85, KL Div: 4.92, ELBO: -827.77\n",
      "Epoch[5/50], Step [701/889], Reconst Loss: 821.86, KL Div: 5.10, ELBO: -826.95\n",
      "Epoch[5/50], Step [801/889], Reconst Loss: 822.66, KL Div: 5.10, ELBO: -827.76\n",
      "Epoch[6/50], Step [1/889], Reconst Loss: 822.39, KL Div: 5.04, ELBO: -827.43\n",
      "Epoch[6/50], Step [101/889], Reconst Loss: 821.55, KL Div: 5.12, ELBO: -826.68\n",
      "Epoch[6/50], Step [201/889], Reconst Loss: 823.51, KL Div: 5.26, ELBO: -828.77\n",
      "Epoch[6/50], Step [301/889], Reconst Loss: 822.83, KL Div: 5.18, ELBO: -828.02\n",
      "Epoch[6/50], Step [401/889], Reconst Loss: 823.18, KL Div: 4.97, ELBO: -828.16\n",
      "Epoch[6/50], Step [501/889], Reconst Loss: 822.48, KL Div: 5.25, ELBO: -827.73\n",
      "Epoch[6/50], Step [601/889], Reconst Loss: 821.83, KL Div: 5.09, ELBO: -826.92\n",
      "Epoch[6/50], Step [701/889], Reconst Loss: 820.45, KL Div: 5.33, ELBO: -825.78\n",
      "Epoch[6/50], Step [801/889], Reconst Loss: 821.55, KL Div: 5.37, ELBO: -826.93\n",
      "Epoch[7/50], Step [1/889], Reconst Loss: 822.42, KL Div: 5.28, ELBO: -827.71\n",
      "Epoch[7/50], Step [101/889], Reconst Loss: 821.18, KL Div: 5.51, ELBO: -826.69\n",
      "Epoch[7/50], Step [201/889], Reconst Loss: 822.93, KL Div: 5.37, ELBO: -828.29\n",
      "Epoch[7/50], Step [301/889], Reconst Loss: 821.11, KL Div: 5.54, ELBO: -826.65\n",
      "Epoch[7/50], Step [401/889], Reconst Loss: 821.43, KL Div: 5.57, ELBO: -827.00\n",
      "Epoch[7/50], Step [501/889], Reconst Loss: 821.20, KL Div: 5.51, ELBO: -826.71\n",
      "Epoch[7/50], Step [601/889], Reconst Loss: 821.64, KL Div: 5.69, ELBO: -827.33\n",
      "Epoch[7/50], Step [701/889], Reconst Loss: 819.86, KL Div: 5.45, ELBO: -825.31\n",
      "Epoch[7/50], Step [801/889], Reconst Loss: 820.24, KL Div: 5.71, ELBO: -825.96\n",
      "Epoch[8/50], Step [1/889], Reconst Loss: 819.72, KL Div: 5.61, ELBO: -825.33\n",
      "Epoch[8/50], Step [101/889], Reconst Loss: 821.22, KL Div: 5.97, ELBO: -827.19\n",
      "Epoch[8/50], Step [201/889], Reconst Loss: 821.02, KL Div: 5.74, ELBO: -826.77\n",
      "Epoch[8/50], Step [301/889], Reconst Loss: 821.91, KL Div: 5.77, ELBO: -827.68\n",
      "Epoch[8/50], Step [401/889], Reconst Loss: 821.26, KL Div: 5.64, ELBO: -826.90\n",
      "Epoch[8/50], Step [501/889], Reconst Loss: 821.14, KL Div: 5.77, ELBO: -826.91\n",
      "Epoch[8/50], Step [601/889], Reconst Loss: 821.87, KL Div: 5.55, ELBO: -827.42\n",
      "Epoch[8/50], Step [701/889], Reconst Loss: 821.37, KL Div: 5.78, ELBO: -827.14\n",
      "Epoch[8/50], Step [801/889], Reconst Loss: 819.70, KL Div: 5.71, ELBO: -825.42\n",
      "Epoch[9/50], Step [1/889], Reconst Loss: 820.12, KL Div: 5.72, ELBO: -825.84\n",
      "Epoch[9/50], Step [101/889], Reconst Loss: 820.50, KL Div: 5.95, ELBO: -826.44\n",
      "Epoch[9/50], Step [201/889], Reconst Loss: 821.24, KL Div: 5.57, ELBO: -826.80\n",
      "Epoch[9/50], Step [301/889], Reconst Loss: 821.59, KL Div: 5.84, ELBO: -827.42\n",
      "Epoch[9/50], Step [401/889], Reconst Loss: 820.32, KL Div: 5.79, ELBO: -826.11\n",
      "Epoch[9/50], Step [501/889], Reconst Loss: 819.76, KL Div: 5.95, ELBO: -825.71\n",
      "Epoch[9/50], Step [601/889], Reconst Loss: 821.96, KL Div: 5.63, ELBO: -827.59\n",
      "Epoch[9/50], Step [701/889], Reconst Loss: 821.73, KL Div: 6.04, ELBO: -827.77\n",
      "Epoch[9/50], Step [801/889], Reconst Loss: 821.03, KL Div: 5.78, ELBO: -826.81\n",
      "Epoch[10/50], Step [1/889], Reconst Loss: 821.09, KL Div: 5.70, ELBO: -826.79\n",
      "Epoch[10/50], Step [101/889], Reconst Loss: 821.99, KL Div: 5.54, ELBO: -827.52\n",
      "Epoch[10/50], Step [201/889], Reconst Loss: 821.98, KL Div: 5.95, ELBO: -827.93\n",
      "Epoch[10/50], Step [301/889], Reconst Loss: 820.91, KL Div: 5.88, ELBO: -826.80\n",
      "Epoch[10/50], Step [401/889], Reconst Loss: 821.14, KL Div: 5.86, ELBO: -827.00\n",
      "Epoch[10/50], Step [501/889], Reconst Loss: 821.05, KL Div: 5.86, ELBO: -826.91\n",
      "Epoch[10/50], Step [601/889], Reconst Loss: 822.13, KL Div: 5.60, ELBO: -827.73\n",
      "Epoch[10/50], Step [701/889], Reconst Loss: 821.36, KL Div: 5.85, ELBO: -827.21\n",
      "Epoch[10/50], Step [801/889], Reconst Loss: 820.28, KL Div: 5.85, ELBO: -826.13\n",
      "Epoch[11/50], Step [1/889], Reconst Loss: 819.31, KL Div: 5.91, ELBO: -825.22\n",
      "Epoch[11/50], Step [101/889], Reconst Loss: 822.15, KL Div: 5.76, ELBO: -827.91\n",
      "Epoch[11/50], Step [201/889], Reconst Loss: 821.11, KL Div: 5.96, ELBO: -827.07\n",
      "Epoch[11/50], Step [301/889], Reconst Loss: 820.66, KL Div: 5.89, ELBO: -826.55\n",
      "Epoch[11/50], Step [401/889], Reconst Loss: 821.05, KL Div: 5.85, ELBO: -826.90\n",
      "Epoch[11/50], Step [501/889], Reconst Loss: 822.37, KL Div: 6.00, ELBO: -828.37\n",
      "Epoch[11/50], Step [601/889], Reconst Loss: 822.70, KL Div: 5.78, ELBO: -828.48\n",
      "Epoch[11/50], Step [701/889], Reconst Loss: 821.91, KL Div: 5.81, ELBO: -827.72\n",
      "Epoch[11/50], Step [801/889], Reconst Loss: 820.76, KL Div: 5.74, ELBO: -826.51\n",
      "Epoch[12/50], Step [1/889], Reconst Loss: 821.13, KL Div: 5.95, ELBO: -827.07\n",
      "Epoch[12/50], Step [101/889], Reconst Loss: 821.41, KL Div: 5.62, ELBO: -827.03\n",
      "Epoch[12/50], Step [201/889], Reconst Loss: 820.43, KL Div: 5.90, ELBO: -826.33\n",
      "Epoch[12/50], Step [301/889], Reconst Loss: 819.98, KL Div: 6.33, ELBO: -826.31\n",
      "Epoch[12/50], Step [401/889], Reconst Loss: 823.79, KL Div: 6.81, ELBO: -830.60\n"
     ]
    },
    {
     "name": "stdout",
     "output_type": "stream",
     "text": [
      "Epoch[12/50], Step [501/889], Reconst Loss: 820.18, KL Div: 5.76, ELBO: -825.94\n",
      "Epoch[12/50], Step [601/889], Reconst Loss: 819.82, KL Div: 5.72, ELBO: -825.55\n",
      "Epoch[12/50], Step [701/889], Reconst Loss: 820.68, KL Div: 6.03, ELBO: -826.71\n",
      "Epoch[12/50], Step [801/889], Reconst Loss: 820.34, KL Div: 5.85, ELBO: -826.19\n",
      "Epoch[13/50], Step [1/889], Reconst Loss: 820.45, KL Div: 5.85, ELBO: -826.30\n",
      "Epoch[13/50], Step [101/889], Reconst Loss: 821.97, KL Div: 5.99, ELBO: -827.96\n",
      "Epoch[13/50], Step [201/889], Reconst Loss: 820.09, KL Div: 5.78, ELBO: -825.87\n",
      "Epoch[13/50], Step [301/889], Reconst Loss: 818.80, KL Div: 6.07, ELBO: -824.87\n",
      "Epoch[13/50], Step [401/889], Reconst Loss: 820.28, KL Div: 5.96, ELBO: -826.25\n",
      "Epoch[13/50], Step [501/889], Reconst Loss: 820.02, KL Div: 6.21, ELBO: -826.22\n",
      "Epoch[13/50], Step [601/889], Reconst Loss: 818.79, KL Div: 6.15, ELBO: -824.94\n",
      "Epoch[13/50], Step [701/889], Reconst Loss: 820.17, KL Div: 5.91, ELBO: -826.08\n",
      "Epoch[13/50], Step [801/889], Reconst Loss: 820.28, KL Div: 6.01, ELBO: -826.29\n",
      "Epoch[14/50], Step [1/889], Reconst Loss: 819.77, KL Div: 6.02, ELBO: -825.79\n",
      "Epoch[14/50], Step [101/889], Reconst Loss: 819.37, KL Div: 6.16, ELBO: -825.53\n",
      "Epoch[14/50], Step [201/889], Reconst Loss: 821.06, KL Div: 5.78, ELBO: -826.84\n",
      "Epoch[14/50], Step [301/889], Reconst Loss: 820.83, KL Div: 6.00, ELBO: -826.83\n",
      "Epoch[14/50], Step [401/889], Reconst Loss: 818.81, KL Div: 6.07, ELBO: -824.88\n",
      "Epoch[14/50], Step [501/889], Reconst Loss: 821.88, KL Div: 5.74, ELBO: -827.63\n",
      "Epoch[14/50], Step [601/889], Reconst Loss: 819.23, KL Div: 6.25, ELBO: -825.48\n",
      "Epoch[14/50], Step [701/889], Reconst Loss: 820.33, KL Div: 6.31, ELBO: -826.63\n",
      "Epoch[14/50], Step [801/889], Reconst Loss: 819.02, KL Div: 6.10, ELBO: -825.12\n",
      "Epoch[15/50], Step [1/889], Reconst Loss: 818.81, KL Div: 6.14, ELBO: -824.95\n",
      "Epoch[15/50], Step [101/889], Reconst Loss: 819.74, KL Div: 5.78, ELBO: -825.51\n",
      "Epoch[15/50], Step [201/889], Reconst Loss: 820.34, KL Div: 5.85, ELBO: -826.19\n",
      "Epoch[15/50], Step [301/889], Reconst Loss: 821.31, KL Div: 5.79, ELBO: -827.10\n",
      "Epoch[15/50], Step [401/889], Reconst Loss: 818.87, KL Div: 6.08, ELBO: -824.95\n",
      "Epoch[15/50], Step [501/889], Reconst Loss: 820.33, KL Div: 6.01, ELBO: -826.34\n",
      "Epoch[15/50], Step [601/889], Reconst Loss: 820.57, KL Div: 6.16, ELBO: -826.73\n",
      "Epoch[15/50], Step [701/889], Reconst Loss: 819.41, KL Div: 5.96, ELBO: -825.37\n",
      "Epoch[15/50], Step [801/889], Reconst Loss: 820.44, KL Div: 5.95, ELBO: -826.39\n",
      "Epoch[16/50], Step [1/889], Reconst Loss: 820.88, KL Div: 6.55, ELBO: -827.42\n",
      "Epoch[16/50], Step [101/889], Reconst Loss: 820.74, KL Div: 5.74, ELBO: -826.49\n",
      "Epoch[16/50], Step [201/889], Reconst Loss: 819.50, KL Div: 6.09, ELBO: -825.59\n",
      "Epoch[16/50], Step [301/889], Reconst Loss: 818.70, KL Div: 6.15, ELBO: -824.85\n",
      "Epoch[16/50], Step [401/889], Reconst Loss: 820.21, KL Div: 6.00, ELBO: -826.22\n",
      "Epoch[16/50], Step [501/889], Reconst Loss: 818.73, KL Div: 6.24, ELBO: -824.96\n",
      "Epoch[16/50], Step [601/889], Reconst Loss: 820.96, KL Div: 5.91, ELBO: -826.87\n",
      "Epoch[16/50], Step [701/889], Reconst Loss: 821.52, KL Div: 6.00, ELBO: -827.52\n",
      "Epoch[16/50], Step [801/889], Reconst Loss: 819.58, KL Div: 6.08, ELBO: -825.66\n",
      "Epoch[17/50], Step [1/889], Reconst Loss: 819.86, KL Div: 6.15, ELBO: -826.01\n",
      "Epoch[17/50], Step [101/889], Reconst Loss: 821.41, KL Div: 6.06, ELBO: -827.47\n",
      "Epoch[17/50], Step [201/889], Reconst Loss: 820.09, KL Div: 5.96, ELBO: -826.06\n",
      "Epoch[17/50], Step [301/889], Reconst Loss: 819.64, KL Div: 6.08, ELBO: -825.72\n",
      "Epoch[17/50], Step [401/889], Reconst Loss: 819.50, KL Div: 6.13, ELBO: -825.63\n",
      "Epoch[17/50], Step [501/889], Reconst Loss: 820.62, KL Div: 5.99, ELBO: -826.61\n",
      "Epoch[17/50], Step [601/889], Reconst Loss: 819.82, KL Div: 6.08, ELBO: -825.91\n",
      "Epoch[17/50], Step [701/889], Reconst Loss: 819.41, KL Div: 6.25, ELBO: -825.66\n",
      "Epoch[17/50], Step [801/889], Reconst Loss: 819.70, KL Div: 6.04, ELBO: -825.74\n",
      "Epoch[18/50], Step [1/889], Reconst Loss: 821.34, KL Div: 6.03, ELBO: -827.37\n",
      "Epoch[18/50], Step [101/889], Reconst Loss: 819.90, KL Div: 6.31, ELBO: -826.21\n",
      "Epoch[18/50], Step [201/889], Reconst Loss: 819.57, KL Div: 6.20, ELBO: -825.77\n",
      "Epoch[18/50], Step [301/889], Reconst Loss: 820.38, KL Div: 6.09, ELBO: -826.47\n",
      "Epoch[18/50], Step [401/889], Reconst Loss: 818.45, KL Div: 6.32, ELBO: -824.76\n",
      "Epoch[18/50], Step [501/889], Reconst Loss: 820.34, KL Div: 5.99, ELBO: -826.32\n",
      "Epoch[18/50], Step [601/889], Reconst Loss: 820.11, KL Div: 5.99, ELBO: -826.10\n",
      "Epoch[18/50], Step [701/889], Reconst Loss: 820.31, KL Div: 6.10, ELBO: -826.41\n",
      "Epoch[18/50], Step [801/889], Reconst Loss: 819.70, KL Div: 6.02, ELBO: -825.72\n",
      "Epoch[19/50], Step [1/889], Reconst Loss: 820.18, KL Div: 5.95, ELBO: -826.13\n",
      "Epoch[19/50], Step [101/889], Reconst Loss: 819.20, KL Div: 5.94, ELBO: -825.14\n",
      "Epoch[19/50], Step [201/889], Reconst Loss: 820.92, KL Div: 5.87, ELBO: -826.79\n",
      "Epoch[19/50], Step [301/889], Reconst Loss: 819.85, KL Div: 5.88, ELBO: -825.73\n",
      "Epoch[19/50], Step [401/889], Reconst Loss: 819.14, KL Div: 6.25, ELBO: -825.39\n",
      "Epoch[19/50], Step [501/889], Reconst Loss: 819.73, KL Div: 5.84, ELBO: -825.56\n",
      "Epoch[19/50], Step [601/889], Reconst Loss: 820.44, KL Div: 5.80, ELBO: -826.24\n",
      "Epoch[19/50], Step [701/889], Reconst Loss: 821.24, KL Div: 6.15, ELBO: -827.38\n",
      "Epoch[19/50], Step [801/889], Reconst Loss: 821.82, KL Div: 5.78, ELBO: -827.60\n",
      "Epoch[20/50], Step [1/889], Reconst Loss: 819.85, KL Div: 6.02, ELBO: -825.87\n",
      "Epoch[20/50], Step [101/889], Reconst Loss: 820.01, KL Div: 6.21, ELBO: -826.22\n",
      "Epoch[20/50], Step [201/889], Reconst Loss: 820.67, KL Div: 6.16, ELBO: -826.83\n",
      "Epoch[20/50], Step [301/889], Reconst Loss: 820.52, KL Div: 5.77, ELBO: -826.29\n",
      "Epoch[20/50], Step [401/889], Reconst Loss: 818.29, KL Div: 6.32, ELBO: -824.61\n",
      "Epoch[20/50], Step [501/889], Reconst Loss: 821.54, KL Div: 5.80, ELBO: -827.34\n",
      "Epoch[20/50], Step [601/889], Reconst Loss: 819.80, KL Div: 6.05, ELBO: -825.85\n",
      "Epoch[20/50], Step [701/889], Reconst Loss: 817.98, KL Div: 6.24, ELBO: -824.22\n",
      "Epoch[20/50], Step [801/889], Reconst Loss: 819.15, KL Div: 6.03, ELBO: -825.18\n",
      "Epoch[21/50], Step [1/889], Reconst Loss: 819.78, KL Div: 6.05, ELBO: -825.83\n",
      "Epoch[21/50], Step [101/889], Reconst Loss: 819.53, KL Div: 6.11, ELBO: -825.64\n",
      "Epoch[21/50], Step [201/889], Reconst Loss: 819.73, KL Div: 5.80, ELBO: -825.53\n",
      "Epoch[21/50], Step [301/889], Reconst Loss: 820.37, KL Div: 6.12, ELBO: -826.49\n",
      "Epoch[21/50], Step [401/889], Reconst Loss: 819.68, KL Div: 5.89, ELBO: -825.57\n",
      "Epoch[21/50], Step [501/889], Reconst Loss: 818.83, KL Div: 6.02, ELBO: -824.86\n",
      "Epoch[21/50], Step [601/889], Reconst Loss: 821.88, KL Div: 5.87, ELBO: -827.75\n",
      "Epoch[21/50], Step [701/889], Reconst Loss: 818.18, KL Div: 6.05, ELBO: -824.23\n",
      "Epoch[21/50], Step [801/889], Reconst Loss: 819.64, KL Div: 6.09, ELBO: -825.73\n",
      "Epoch[22/50], Step [1/889], Reconst Loss: 817.63, KL Div: 6.24, ELBO: -823.86\n",
      "Epoch[22/50], Step [101/889], Reconst Loss: 818.83, KL Div: 6.13, ELBO: -824.97\n",
      "Epoch[22/50], Step [201/889], Reconst Loss: 818.71, KL Div: 6.18, ELBO: -824.89\n",
      "Epoch[22/50], Step [301/889], Reconst Loss: 819.82, KL Div: 5.99, ELBO: -825.82\n",
      "Epoch[22/50], Step [401/889], Reconst Loss: 821.17, KL Div: 5.93, ELBO: -827.09\n",
      "Epoch[22/50], Step [501/889], Reconst Loss: 821.62, KL Div: 6.16, ELBO: -827.78\n",
      "Epoch[22/50], Step [601/889], Reconst Loss: 818.79, KL Div: 6.37, ELBO: -825.16\n",
      "Epoch[22/50], Step [701/889], Reconst Loss: 820.45, KL Div: 5.99, ELBO: -826.44\n",
      "Epoch[22/50], Step [801/889], Reconst Loss: 818.60, KL Div: 6.18, ELBO: -824.78\n",
      "Epoch[23/50], Step [1/889], Reconst Loss: 820.21, KL Div: 5.93, ELBO: -826.14\n",
      "Epoch[23/50], Step [101/889], Reconst Loss: 818.71, KL Div: 6.13, ELBO: -824.84\n",
      "Epoch[23/50], Step [201/889], Reconst Loss: 819.92, KL Div: 5.89, ELBO: -825.82\n",
      "Epoch[23/50], Step [301/889], Reconst Loss: 819.51, KL Div: 6.22, ELBO: -825.72\n",
      "Epoch[23/50], Step [401/889], Reconst Loss: 818.64, KL Div: 6.17, ELBO: -824.81\n",
      "Epoch[23/50], Step [501/889], Reconst Loss: 819.72, KL Div: 5.99, ELBO: -825.71\n",
      "Epoch[23/50], Step [601/889], Reconst Loss: 820.35, KL Div: 5.99, ELBO: -826.34\n",
      "Epoch[23/50], Step [701/889], Reconst Loss: 818.25, KL Div: 6.24, ELBO: -824.50\n",
      "Epoch[23/50], Step [801/889], Reconst Loss: 819.95, KL Div: 6.20, ELBO: -826.15\n"
     ]
    },
    {
     "name": "stdout",
     "output_type": "stream",
     "text": [
      "Epoch[24/50], Step [1/889], Reconst Loss: 818.21, KL Div: 6.31, ELBO: -824.53\n",
      "Epoch[24/50], Step [101/889], Reconst Loss: 820.12, KL Div: 6.07, ELBO: -826.19\n",
      "Epoch[24/50], Step [201/889], Reconst Loss: 820.00, KL Div: 6.21, ELBO: -826.21\n",
      "Epoch[24/50], Step [301/889], Reconst Loss: 818.99, KL Div: 6.48, ELBO: -825.48\n",
      "Epoch[24/50], Step [401/889], Reconst Loss: 822.26, KL Div: 6.04, ELBO: -828.30\n",
      "Epoch[24/50], Step [501/889], Reconst Loss: 820.63, KL Div: 5.81, ELBO: -826.44\n",
      "Epoch[24/50], Step [601/889], Reconst Loss: 818.86, KL Div: 6.15, ELBO: -825.02\n",
      "Epoch[24/50], Step [701/889], Reconst Loss: 819.81, KL Div: 6.06, ELBO: -825.87\n",
      "Epoch[24/50], Step [801/889], Reconst Loss: 819.96, KL Div: 6.26, ELBO: -826.22\n",
      "Epoch[25/50], Step [1/889], Reconst Loss: 819.48, KL Div: 6.23, ELBO: -825.70\n",
      "Epoch[25/50], Step [101/889], Reconst Loss: 820.01, KL Div: 5.95, ELBO: -825.96\n",
      "Epoch[25/50], Step [201/889], Reconst Loss: 819.90, KL Div: 6.02, ELBO: -825.93\n",
      "Epoch[25/50], Step [301/889], Reconst Loss: 820.34, KL Div: 5.69, ELBO: -826.03\n",
      "Epoch[25/50], Step [401/889], Reconst Loss: 820.58, KL Div: 6.05, ELBO: -826.63\n",
      "Epoch[25/50], Step [501/889], Reconst Loss: 819.90, KL Div: 6.08, ELBO: -825.98\n",
      "Epoch[25/50], Step [601/889], Reconst Loss: 820.22, KL Div: 6.10, ELBO: -826.32\n",
      "Epoch[25/50], Step [701/889], Reconst Loss: 820.24, KL Div: 5.97, ELBO: -826.21\n",
      "Epoch[25/50], Step [801/889], Reconst Loss: 819.17, KL Div: 6.09, ELBO: -825.26\n",
      "Epoch[26/50], Step [1/889], Reconst Loss: 817.55, KL Div: 6.36, ELBO: -823.91\n",
      "Epoch[26/50], Step [101/889], Reconst Loss: 820.89, KL Div: 5.98, ELBO: -826.87\n",
      "Epoch[26/50], Step [201/889], Reconst Loss: 818.62, KL Div: 6.13, ELBO: -824.75\n",
      "Epoch[26/50], Step [301/889], Reconst Loss: 819.25, KL Div: 6.24, ELBO: -825.50\n",
      "Epoch[26/50], Step [401/889], Reconst Loss: 819.81, KL Div: 6.10, ELBO: -825.91\n",
      "Epoch[26/50], Step [501/889], Reconst Loss: 819.43, KL Div: 6.06, ELBO: -825.50\n",
      "Epoch[26/50], Step [601/889], Reconst Loss: 819.95, KL Div: 6.00, ELBO: -825.95\n",
      "Epoch[26/50], Step [701/889], Reconst Loss: 820.61, KL Div: 5.94, ELBO: -826.55\n",
      "Epoch[26/50], Step [801/889], Reconst Loss: 821.18, KL Div: 6.06, ELBO: -827.23\n",
      "Epoch[27/50], Step [1/889], Reconst Loss: 818.56, KL Div: 6.27, ELBO: -824.83\n",
      "Epoch[27/50], Step [101/889], Reconst Loss: 819.68, KL Div: 6.20, ELBO: -825.88\n",
      "Epoch[27/50], Step [201/889], Reconst Loss: 818.93, KL Div: 6.26, ELBO: -825.19\n",
      "Epoch[27/50], Step [301/889], Reconst Loss: 819.15, KL Div: 6.09, ELBO: -825.24\n",
      "Epoch[27/50], Step [401/889], Reconst Loss: 819.92, KL Div: 6.04, ELBO: -825.96\n",
      "Epoch[27/50], Step [501/889], Reconst Loss: 820.44, KL Div: 6.12, ELBO: -826.56\n",
      "Epoch[27/50], Step [601/889], Reconst Loss: 819.57, KL Div: 6.13, ELBO: -825.70\n",
      "Epoch[27/50], Step [701/889], Reconst Loss: 819.02, KL Div: 6.12, ELBO: -825.14\n",
      "Epoch[27/50], Step [801/889], Reconst Loss: 819.60, KL Div: 6.32, ELBO: -825.93\n",
      "Epoch[28/50], Step [1/889], Reconst Loss: 818.62, KL Div: 6.16, ELBO: -824.78\n",
      "Epoch[28/50], Step [101/889], Reconst Loss: 818.98, KL Div: 6.22, ELBO: -825.20\n",
      "Epoch[28/50], Step [201/889], Reconst Loss: 818.75, KL Div: 6.19, ELBO: -824.94\n",
      "Epoch[28/50], Step [301/889], Reconst Loss: 819.42, KL Div: 6.20, ELBO: -825.62\n",
      "Epoch[28/50], Step [401/889], Reconst Loss: 820.77, KL Div: 6.23, ELBO: -827.00\n",
      "Epoch[28/50], Step [501/889], Reconst Loss: 821.15, KL Div: 5.81, ELBO: -826.96\n",
      "Epoch[28/50], Step [601/889], Reconst Loss: 818.46, KL Div: 5.95, ELBO: -824.42\n",
      "Epoch[28/50], Step [701/889], Reconst Loss: 818.51, KL Div: 6.12, ELBO: -824.64\n",
      "Epoch[28/50], Step [801/889], Reconst Loss: 818.64, KL Div: 5.97, ELBO: -824.61\n",
      "Epoch[29/50], Step [1/889], Reconst Loss: 819.90, KL Div: 6.06, ELBO: -825.96\n",
      "Epoch[29/50], Step [101/889], Reconst Loss: 818.88, KL Div: 6.02, ELBO: -824.90\n",
      "Epoch[29/50], Step [201/889], Reconst Loss: 819.51, KL Div: 6.01, ELBO: -825.52\n",
      "Epoch[29/50], Step [301/889], Reconst Loss: 818.88, KL Div: 6.13, ELBO: -825.01\n",
      "Epoch[29/50], Step [401/889], Reconst Loss: 818.67, KL Div: 6.25, ELBO: -824.92\n",
      "Epoch[29/50], Step [501/889], Reconst Loss: 820.22, KL Div: 5.94, ELBO: -826.16\n",
      "Epoch[29/50], Step [601/889], Reconst Loss: 818.61, KL Div: 6.07, ELBO: -824.68\n",
      "Epoch[29/50], Step [701/889], Reconst Loss: 818.77, KL Div: 5.97, ELBO: -824.74\n",
      "Epoch[29/50], Step [801/889], Reconst Loss: 819.42, KL Div: 6.00, ELBO: -825.43\n",
      "Epoch[30/50], Step [1/889], Reconst Loss: 818.62, KL Div: 6.33, ELBO: -824.95\n",
      "Epoch[30/50], Step [101/889], Reconst Loss: 819.11, KL Div: 6.18, ELBO: -825.29\n",
      "Epoch[30/50], Step [201/889], Reconst Loss: 819.00, KL Div: 6.16, ELBO: -825.16\n",
      "Epoch[30/50], Step [301/889], Reconst Loss: 819.21, KL Div: 6.47, ELBO: -825.68\n",
      "Epoch[30/50], Step [401/889], Reconst Loss: 819.06, KL Div: 6.15, ELBO: -825.21\n",
      "Epoch[30/50], Step [501/889], Reconst Loss: 821.46, KL Div: 6.03, ELBO: -827.49\n",
      "Epoch[30/50], Step [601/889], Reconst Loss: 820.56, KL Div: 6.20, ELBO: -826.76\n",
      "Epoch[30/50], Step [701/889], Reconst Loss: 817.94, KL Div: 6.01, ELBO: -823.96\n",
      "Epoch[30/50], Step [801/889], Reconst Loss: 818.69, KL Div: 6.49, ELBO: -825.19\n",
      "Epoch[31/50], Step [1/889], Reconst Loss: 818.31, KL Div: 6.24, ELBO: -824.55\n",
      "Epoch[31/50], Step [101/889], Reconst Loss: 819.41, KL Div: 6.19, ELBO: -825.61\n",
      "Epoch[31/50], Step [201/889], Reconst Loss: 819.22, KL Div: 6.27, ELBO: -825.49\n",
      "Epoch[31/50], Step [301/889], Reconst Loss: 818.85, KL Div: 6.12, ELBO: -824.97\n",
      "Epoch[31/50], Step [401/889], Reconst Loss: 819.97, KL Div: 6.08, ELBO: -826.05\n",
      "Epoch[31/50], Step [501/889], Reconst Loss: 820.67, KL Div: 6.05, ELBO: -826.72\n",
      "Epoch[31/50], Step [601/889], Reconst Loss: 819.99, KL Div: 6.19, ELBO: -826.18\n",
      "Epoch[31/50], Step [701/889], Reconst Loss: 819.44, KL Div: 5.91, ELBO: -825.35\n",
      "Epoch[31/50], Step [801/889], Reconst Loss: 817.37, KL Div: 6.20, ELBO: -823.57\n",
      "Epoch[32/50], Step [1/889], Reconst Loss: 819.89, KL Div: 6.08, ELBO: -825.97\n",
      "Epoch[32/50], Step [101/889], Reconst Loss: 818.54, KL Div: 6.24, ELBO: -824.78\n",
      "Epoch[32/50], Step [201/889], Reconst Loss: 818.74, KL Div: 6.25, ELBO: -824.99\n",
      "Epoch[32/50], Step [301/889], Reconst Loss: 821.84, KL Div: 6.03, ELBO: -827.87\n",
      "Epoch[32/50], Step [401/889], Reconst Loss: 817.92, KL Div: 6.43, ELBO: -824.36\n",
      "Epoch[32/50], Step [501/889], Reconst Loss: 818.52, KL Div: 6.32, ELBO: -824.84\n",
      "Epoch[32/50], Step [601/889], Reconst Loss: 820.13, KL Div: 6.14, ELBO: -826.27\n",
      "Epoch[32/50], Step [701/889], Reconst Loss: 820.17, KL Div: 6.10, ELBO: -826.27\n",
      "Epoch[32/50], Step [801/889], Reconst Loss: 818.93, KL Div: 6.14, ELBO: -825.07\n",
      "Epoch[33/50], Step [1/889], Reconst Loss: 819.59, KL Div: 6.02, ELBO: -825.61\n",
      "Epoch[33/50], Step [101/889], Reconst Loss: 819.47, KL Div: 6.30, ELBO: -825.77\n",
      "Epoch[33/50], Step [201/889], Reconst Loss: 818.07, KL Div: 6.35, ELBO: -824.42\n",
      "Epoch[33/50], Step [301/889], Reconst Loss: 819.73, KL Div: 6.29, ELBO: -826.01\n",
      "Epoch[33/50], Step [401/889], Reconst Loss: 818.33, KL Div: 6.25, ELBO: -824.58\n",
      "Epoch[33/50], Step [501/889], Reconst Loss: 818.77, KL Div: 6.17, ELBO: -824.94\n",
      "Epoch[33/50], Step [601/889], Reconst Loss: 819.14, KL Div: 6.21, ELBO: -825.34\n",
      "Epoch[33/50], Step [701/889], Reconst Loss: 817.62, KL Div: 6.10, ELBO: -823.71\n",
      "Epoch[33/50], Step [801/889], Reconst Loss: 819.43, KL Div: 6.03, ELBO: -825.46\n",
      "Epoch[34/50], Step [1/889], Reconst Loss: 818.37, KL Div: 5.89, ELBO: -824.26\n",
      "Epoch[34/50], Step [101/889], Reconst Loss: 818.70, KL Div: 5.92, ELBO: -824.62\n",
      "Epoch[34/50], Step [201/889], Reconst Loss: 819.94, KL Div: 6.15, ELBO: -826.08\n",
      "Epoch[34/50], Step [301/889], Reconst Loss: 819.95, KL Div: 5.90, ELBO: -825.85\n",
      "Epoch[34/50], Step [401/889], Reconst Loss: 819.07, KL Div: 6.17, ELBO: -825.24\n",
      "Epoch[34/50], Step [501/889], Reconst Loss: 820.25, KL Div: 6.19, ELBO: -826.43\n",
      "Epoch[34/50], Step [601/889], Reconst Loss: 820.34, KL Div: 6.01, ELBO: -826.35\n",
      "Epoch[34/50], Step [701/889], Reconst Loss: 818.67, KL Div: 6.16, ELBO: -824.83\n",
      "Epoch[34/50], Step [801/889], Reconst Loss: 819.25, KL Div: 6.18, ELBO: -825.42\n",
      "Epoch[35/50], Step [1/889], Reconst Loss: 818.90, KL Div: 6.17, ELBO: -825.07\n",
      "Epoch[35/50], Step [101/889], Reconst Loss: 819.03, KL Div: 6.17, ELBO: -825.20\n",
      "Epoch[35/50], Step [201/889], Reconst Loss: 820.50, KL Div: 6.04, ELBO: -826.54\n",
      "Epoch[35/50], Step [301/889], Reconst Loss: 820.63, KL Div: 6.03, ELBO: -826.66\n"
     ]
    },
    {
     "name": "stdout",
     "output_type": "stream",
     "text": [
      "Epoch[35/50], Step [401/889], Reconst Loss: 818.53, KL Div: 6.30, ELBO: -824.83\n",
      "Epoch[35/50], Step [501/889], Reconst Loss: 820.53, KL Div: 6.02, ELBO: -826.56\n",
      "Epoch[35/50], Step [601/889], Reconst Loss: 820.05, KL Div: 6.10, ELBO: -826.15\n",
      "Epoch[35/50], Step [701/889], Reconst Loss: 821.12, KL Div: 6.24, ELBO: -827.36\n",
      "Epoch[35/50], Step [801/889], Reconst Loss: 820.88, KL Div: 6.23, ELBO: -827.11\n",
      "Epoch[36/50], Step [1/889], Reconst Loss: 818.20, KL Div: 6.15, ELBO: -824.35\n",
      "Epoch[36/50], Step [101/889], Reconst Loss: 818.29, KL Div: 6.11, ELBO: -824.40\n",
      "Epoch[36/50], Step [201/889], Reconst Loss: 820.19, KL Div: 5.93, ELBO: -826.12\n",
      "Epoch[36/50], Step [301/889], Reconst Loss: 819.35, KL Div: 5.95, ELBO: -825.30\n",
      "Epoch[36/50], Step [401/889], Reconst Loss: 819.09, KL Div: 6.24, ELBO: -825.33\n",
      "Epoch[36/50], Step [501/889], Reconst Loss: 818.94, KL Div: 6.47, ELBO: -825.41\n",
      "Epoch[36/50], Step [601/889], Reconst Loss: 817.29, KL Div: 6.38, ELBO: -823.68\n",
      "Epoch[36/50], Step [701/889], Reconst Loss: 818.98, KL Div: 6.18, ELBO: -825.16\n",
      "Epoch[36/50], Step [801/889], Reconst Loss: 819.20, KL Div: 6.26, ELBO: -825.46\n",
      "Epoch[37/50], Step [1/889], Reconst Loss: 820.51, KL Div: 6.21, ELBO: -826.71\n",
      "Epoch[37/50], Step [101/889], Reconst Loss: 818.55, KL Div: 6.31, ELBO: -824.86\n",
      "Epoch[37/50], Step [201/889], Reconst Loss: 818.13, KL Div: 5.99, ELBO: -824.12\n",
      "Epoch[37/50], Step [301/889], Reconst Loss: 819.05, KL Div: 6.40, ELBO: -825.45\n",
      "Epoch[37/50], Step [401/889], Reconst Loss: 820.23, KL Div: 6.05, ELBO: -826.28\n",
      "Epoch[37/50], Step [501/889], Reconst Loss: 819.38, KL Div: 6.14, ELBO: -825.52\n",
      "Epoch[37/50], Step [601/889], Reconst Loss: 818.49, KL Div: 6.14, ELBO: -824.63\n",
      "Epoch[37/50], Step [701/889], Reconst Loss: 819.10, KL Div: 6.27, ELBO: -825.37\n",
      "Epoch[37/50], Step [801/889], Reconst Loss: 819.41, KL Div: 6.21, ELBO: -825.62\n",
      "Epoch[38/50], Step [1/889], Reconst Loss: 817.05, KL Div: 6.30, ELBO: -823.35\n",
      "Epoch[38/50], Step [101/889], Reconst Loss: 819.69, KL Div: 6.06, ELBO: -825.76\n",
      "Epoch[38/50], Step [201/889], Reconst Loss: 820.03, KL Div: 6.06, ELBO: -826.09\n",
      "Epoch[38/50], Step [301/889], Reconst Loss: 818.49, KL Div: 6.22, ELBO: -824.71\n",
      "Epoch[38/50], Step [401/889], Reconst Loss: 819.01, KL Div: 6.11, ELBO: -825.12\n",
      "Epoch[38/50], Step [501/889], Reconst Loss: 820.61, KL Div: 6.04, ELBO: -826.65\n",
      "Epoch[38/50], Step [601/889], Reconst Loss: 818.00, KL Div: 6.23, ELBO: -824.23\n",
      "Epoch[38/50], Step [701/889], Reconst Loss: 819.61, KL Div: 6.21, ELBO: -825.81\n",
      "Epoch[38/50], Step [801/889], Reconst Loss: 818.75, KL Div: 6.11, ELBO: -824.87\n",
      "Epoch[39/50], Step [1/889], Reconst Loss: 820.57, KL Div: 6.06, ELBO: -826.63\n",
      "Epoch[39/50], Step [101/889], Reconst Loss: 820.23, KL Div: 5.92, ELBO: -826.14\n",
      "Epoch[39/50], Step [201/889], Reconst Loss: 817.80, KL Div: 6.23, ELBO: -824.03\n",
      "Epoch[39/50], Step [301/889], Reconst Loss: 819.40, KL Div: 6.32, ELBO: -825.72\n",
      "Epoch[39/50], Step [401/889], Reconst Loss: 819.41, KL Div: 6.14, ELBO: -825.56\n",
      "Epoch[39/50], Step [501/889], Reconst Loss: 817.83, KL Div: 6.19, ELBO: -824.02\n",
      "Epoch[39/50], Step [601/889], Reconst Loss: 819.84, KL Div: 6.40, ELBO: -826.23\n",
      "Epoch[39/50], Step [701/889], Reconst Loss: 820.16, KL Div: 6.09, ELBO: -826.25\n",
      "Epoch[39/50], Step [801/889], Reconst Loss: 818.94, KL Div: 6.14, ELBO: -825.08\n",
      "Epoch[40/50], Step [1/889], Reconst Loss: 818.79, KL Div: 6.32, ELBO: -825.11\n",
      "Epoch[40/50], Step [101/889], Reconst Loss: 819.07, KL Div: 6.32, ELBO: -825.39\n",
      "Epoch[40/50], Step [201/889], Reconst Loss: 818.93, KL Div: 6.26, ELBO: -825.19\n",
      "Epoch[40/50], Step [301/889], Reconst Loss: 820.85, KL Div: 6.00, ELBO: -826.85\n",
      "Epoch[40/50], Step [401/889], Reconst Loss: 818.30, KL Div: 6.18, ELBO: -824.47\n",
      "Epoch[40/50], Step [501/889], Reconst Loss: 820.18, KL Div: 6.13, ELBO: -826.31\n",
      "Epoch[40/50], Step [601/889], Reconst Loss: 819.45, KL Div: 6.37, ELBO: -825.82\n",
      "Epoch[40/50], Step [701/889], Reconst Loss: 818.25, KL Div: 6.02, ELBO: -824.26\n",
      "Epoch[40/50], Step [801/889], Reconst Loss: 819.28, KL Div: 6.19, ELBO: -825.47\n",
      "Epoch[41/50], Step [1/889], Reconst Loss: 820.18, KL Div: 6.26, ELBO: -826.43\n",
      "Epoch[41/50], Step [101/889], Reconst Loss: 819.51, KL Div: 6.28, ELBO: -825.79\n",
      "Epoch[41/50], Step [201/889], Reconst Loss: 818.37, KL Div: 6.17, ELBO: -824.54\n",
      "Epoch[41/50], Step [301/889], Reconst Loss: 820.61, KL Div: 5.96, ELBO: -826.57\n",
      "Epoch[41/50], Step [401/889], Reconst Loss: 817.47, KL Div: 6.34, ELBO: -823.81\n",
      "Epoch[41/50], Step [501/889], Reconst Loss: 818.03, KL Div: 6.16, ELBO: -824.19\n",
      "Epoch[41/50], Step [601/889], Reconst Loss: 819.75, KL Div: 6.23, ELBO: -825.98\n",
      "Epoch[41/50], Step [701/889], Reconst Loss: 820.31, KL Div: 5.77, ELBO: -826.08\n",
      "Epoch[41/50], Step [801/889], Reconst Loss: 818.65, KL Div: 6.13, ELBO: -824.78\n",
      "Epoch[42/50], Step [1/889], Reconst Loss: 820.57, KL Div: 5.95, ELBO: -826.51\n",
      "Epoch[42/50], Step [101/889], Reconst Loss: 819.72, KL Div: 6.11, ELBO: -825.83\n",
      "Epoch[42/50], Step [201/889], Reconst Loss: 819.96, KL Div: 6.18, ELBO: -826.14\n",
      "Epoch[42/50], Step [301/889], Reconst Loss: 818.62, KL Div: 6.20, ELBO: -824.81\n",
      "Epoch[42/50], Step [401/889], Reconst Loss: 816.90, KL Div: 6.31, ELBO: -823.21\n",
      "Epoch[42/50], Step [501/889], Reconst Loss: 820.86, KL Div: 6.07, ELBO: -826.93\n",
      "Epoch[42/50], Step [601/889], Reconst Loss: 817.90, KL Div: 6.38, ELBO: -824.28\n",
      "Epoch[42/50], Step [701/889], Reconst Loss: 817.70, KL Div: 6.14, ELBO: -823.84\n",
      "Epoch[42/50], Step [801/889], Reconst Loss: 820.55, KL Div: 6.41, ELBO: -826.96\n",
      "Epoch[43/50], Step [1/889], Reconst Loss: 820.02, KL Div: 6.27, ELBO: -826.30\n",
      "Epoch[43/50], Step [101/889], Reconst Loss: 820.49, KL Div: 6.03, ELBO: -826.52\n",
      "Epoch[43/50], Step [201/889], Reconst Loss: 818.83, KL Div: 6.25, ELBO: -825.08\n",
      "Epoch[43/50], Step [301/889], Reconst Loss: 817.98, KL Div: 6.21, ELBO: -824.19\n",
      "Epoch[43/50], Step [401/889], Reconst Loss: 820.86, KL Div: 5.96, ELBO: -826.82\n",
      "Epoch[43/50], Step [501/889], Reconst Loss: 819.20, KL Div: 6.03, ELBO: -825.23\n",
      "Epoch[43/50], Step [601/889], Reconst Loss: 819.85, KL Div: 6.27, ELBO: -826.12\n",
      "Epoch[43/50], Step [701/889], Reconst Loss: 816.49, KL Div: 6.31, ELBO: -822.81\n",
      "Epoch[43/50], Step [801/889], Reconst Loss: 818.50, KL Div: 6.40, ELBO: -824.90\n",
      "Epoch[44/50], Step [1/889], Reconst Loss: 819.62, KL Div: 6.20, ELBO: -825.81\n",
      "Epoch[44/50], Step [101/889], Reconst Loss: 819.83, KL Div: 6.29, ELBO: -826.12\n",
      "Epoch[44/50], Step [201/889], Reconst Loss: 820.25, KL Div: 6.07, ELBO: -826.32\n",
      "Epoch[44/50], Step [301/889], Reconst Loss: 819.76, KL Div: 6.26, ELBO: -826.02\n",
      "Epoch[44/50], Step [401/889], Reconst Loss: 820.24, KL Div: 6.28, ELBO: -826.52\n",
      "Epoch[44/50], Step [501/889], Reconst Loss: 820.41, KL Div: 5.97, ELBO: -826.38\n",
      "Epoch[44/50], Step [601/889], Reconst Loss: 820.33, KL Div: 6.14, ELBO: -826.47\n",
      "Epoch[44/50], Step [701/889], Reconst Loss: 819.30, KL Div: 6.19, ELBO: -825.49\n",
      "Epoch[44/50], Step [801/889], Reconst Loss: 818.31, KL Div: 6.15, ELBO: -824.45\n",
      "Epoch[45/50], Step [1/889], Reconst Loss: 818.94, KL Div: 6.25, ELBO: -825.18\n",
      "Epoch[45/50], Step [101/889], Reconst Loss: 817.50, KL Div: 6.32, ELBO: -823.82\n",
      "Epoch[45/50], Step [201/889], Reconst Loss: 819.83, KL Div: 6.04, ELBO: -825.88\n",
      "Epoch[45/50], Step [301/889], Reconst Loss: 818.19, KL Div: 6.12, ELBO: -824.32\n",
      "Epoch[45/50], Step [401/889], Reconst Loss: 819.31, KL Div: 6.16, ELBO: -825.47\n",
      "Epoch[45/50], Step [501/889], Reconst Loss: 819.13, KL Div: 6.28, ELBO: -825.41\n",
      "Epoch[45/50], Step [601/889], Reconst Loss: 818.94, KL Div: 6.28, ELBO: -825.23\n",
      "Epoch[45/50], Step [701/889], Reconst Loss: 819.65, KL Div: 6.09, ELBO: -825.74\n",
      "Epoch[45/50], Step [801/889], Reconst Loss: 817.71, KL Div: 6.25, ELBO: -823.96\n",
      "Epoch[46/50], Step [1/889], Reconst Loss: 820.48, KL Div: 6.16, ELBO: -826.65\n",
      "Epoch[46/50], Step [101/889], Reconst Loss: 817.80, KL Div: 6.31, ELBO: -824.12\n",
      "Epoch[46/50], Step [201/889], Reconst Loss: 818.80, KL Div: 6.19, ELBO: -824.99\n",
      "Epoch[46/50], Step [301/889], Reconst Loss: 819.86, KL Div: 6.34, ELBO: -826.19\n",
      "Epoch[46/50], Step [401/889], Reconst Loss: 817.76, KL Div: 6.27, ELBO: -824.03\n",
      "Epoch[46/50], Step [501/889], Reconst Loss: 817.94, KL Div: 6.37, ELBO: -824.31\n",
      "Epoch[46/50], Step [601/889], Reconst Loss: 820.11, KL Div: 5.84, ELBO: -825.96\n",
      "Epoch[46/50], Step [701/889], Reconst Loss: 820.20, KL Div: 6.25, ELBO: -826.45\n"
     ]
    },
    {
     "name": "stdout",
     "output_type": "stream",
     "text": [
      "Epoch[46/50], Step [801/889], Reconst Loss: 820.45, KL Div: 6.15, ELBO: -826.60\n",
      "Epoch[47/50], Step [1/889], Reconst Loss: 819.48, KL Div: 6.10, ELBO: -825.58\n",
      "Epoch[47/50], Step [101/889], Reconst Loss: 819.43, KL Div: 6.17, ELBO: -825.60\n",
      "Epoch[47/50], Step [201/889], Reconst Loss: 819.43, KL Div: 6.38, ELBO: -825.80\n",
      "Epoch[47/50], Step [301/889], Reconst Loss: 820.08, KL Div: 6.18, ELBO: -826.26\n",
      "Epoch[47/50], Step [401/889], Reconst Loss: 819.32, KL Div: 6.16, ELBO: -825.48\n",
      "Epoch[47/50], Step [501/889], Reconst Loss: 819.09, KL Div: 6.17, ELBO: -825.26\n",
      "Epoch[47/50], Step [601/889], Reconst Loss: 819.32, KL Div: 6.03, ELBO: -825.35\n",
      "Epoch[47/50], Step [701/889], Reconst Loss: 819.06, KL Div: 6.23, ELBO: -825.29\n",
      "Epoch[47/50], Step [801/889], Reconst Loss: 818.99, KL Div: 5.95, ELBO: -824.95\n",
      "Epoch[48/50], Step [1/889], Reconst Loss: 820.85, KL Div: 6.07, ELBO: -826.92\n",
      "Epoch[48/50], Step [101/889], Reconst Loss: 818.69, KL Div: 6.44, ELBO: -825.13\n",
      "Epoch[48/50], Step [201/889], Reconst Loss: 819.88, KL Div: 6.57, ELBO: -826.45\n",
      "Epoch[48/50], Step [301/889], Reconst Loss: 819.33, KL Div: 6.25, ELBO: -825.58\n",
      "Epoch[48/50], Step [401/889], Reconst Loss: 818.52, KL Div: 6.13, ELBO: -824.66\n",
      "Epoch[48/50], Step [501/889], Reconst Loss: 820.96, KL Div: 6.21, ELBO: -827.16\n",
      "Epoch[48/50], Step [601/889], Reconst Loss: 819.50, KL Div: 6.07, ELBO: -825.57\n",
      "Epoch[48/50], Step [701/889], Reconst Loss: 819.95, KL Div: 6.14, ELBO: -826.09\n",
      "Epoch[48/50], Step [801/889], Reconst Loss: 819.80, KL Div: 6.03, ELBO: -825.83\n",
      "Epoch[49/50], Step [1/889], Reconst Loss: 820.45, KL Div: 5.96, ELBO: -826.41\n",
      "Epoch[49/50], Step [101/889], Reconst Loss: 821.09, KL Div: 5.92, ELBO: -827.01\n",
      "Epoch[49/50], Step [201/889], Reconst Loss: 819.14, KL Div: 6.23, ELBO: -825.37\n",
      "Epoch[49/50], Step [301/889], Reconst Loss: 819.33, KL Div: 6.29, ELBO: -825.62\n",
      "Epoch[49/50], Step [401/889], Reconst Loss: 818.45, KL Div: 6.34, ELBO: -824.79\n",
      "Epoch[49/50], Step [501/889], Reconst Loss: 818.57, KL Div: 6.09, ELBO: -824.67\n",
      "Epoch[49/50], Step [601/889], Reconst Loss: 818.06, KL Div: 6.37, ELBO: -824.43\n",
      "Epoch[49/50], Step [701/889], Reconst Loss: 818.93, KL Div: 6.27, ELBO: -825.20\n",
      "Epoch[49/50], Step [801/889], Reconst Loss: 819.34, KL Div: 6.07, ELBO: -825.41\n",
      "Epoch[50/50], Step [1/889], Reconst Loss: 820.36, KL Div: 6.04, ELBO: -826.40\n",
      "Epoch[50/50], Step [101/889], Reconst Loss: 818.58, KL Div: 6.32, ELBO: -824.90\n",
      "Epoch[50/50], Step [201/889], Reconst Loss: 818.38, KL Div: 6.36, ELBO: -824.74\n",
      "Epoch[50/50], Step [301/889], Reconst Loss: 819.69, KL Div: 6.60, ELBO: -826.30\n",
      "Epoch[50/50], Step [401/889], Reconst Loss: 820.70, KL Div: 6.06, ELBO: -826.76\n",
      "Epoch[50/50], Step [501/889], Reconst Loss: 818.70, KL Div: 6.31, ELBO: -825.01\n",
      "Epoch[50/50], Step [601/889], Reconst Loss: 818.59, KL Div: 6.32, ELBO: -824.91\n",
      "Epoch[50/50], Step [701/889], Reconst Loss: 819.83, KL Div: 6.36, ELBO: -826.19\n",
      "Epoch[50/50], Step [801/889], Reconst Loss: 819.01, KL Div: 6.12, ELBO: -825.13\n"
     ]
    }
   ],
   "source": [
    "# ======== TRAINING DATA =============\n",
    "train_tensor = torch.from_numpy(train_normal)\n",
    "print(\"Size of Training Data:\", train_normal.shape)\n",
    "\n",
    "\n",
    "# ======== Hyper-parameters ========\n",
    "input_size = train_normal.shape[1]  # here it's 30\n",
    "h_dim = 10   # dimension of first layer\n",
    "z_dim = 5    # will be 8, second layer, dim of latent vector z\n",
    "\n",
    "num_epochs = 50\n",
    "learning_rate = 1e-3\n",
    "\n",
    "batch_size = 256\n",
    "data_loader = torch.utils.data.DataLoader(dataset=train_tensor.float(),\n",
    "                                          batch_size=batch_size, \n",
    "                                          shuffle=True)\n",
    "\n",
    "# Create Instance for VAE\n",
    "model = VAE(input_size = input_size, h_dim=h_dim, z_dim=z_dim)\n",
    "optimizer = torch.optim.Adam(model.parameters(), lr=learning_rate)\n",
    "\n",
    "ELBO_all, loglikelihood_all, KL_div_all  = [], [], []\n",
    "\n",
    "\n",
    "\n",
    "for epoch in range(num_epochs):\n",
    "    for i, x in enumerate(data_loader):\n",
    "        \n",
    "        # forward propagation\n",
    "        mu_latent, log_var_latent, mu_reconst, log_var_reconst = model(x)\n",
    "        \n",
    "        # ================= COMPUTING LOSS & BACK-PROP ======================\n",
    "        \n",
    "        # using neg. log likelihood of x under normal\n",
    "        reconst_loss = calculate_reconst_loss(x, mu_reconst, log_var_reconst) / batch_size\n",
    "        # compute KL divergence\n",
    "        kl_div = - 0.5 * torch.sum(1 + log_var_latent - mu_latent.pow(2) - log_var_latent.exp()) / batch_size\n",
    "        \n",
    "        # Back propagation, want to minimize loss\n",
    "        # Notice -- \n",
    "        # ELBO = loglikelihood - KL_div, we want to maximize ELBO\n",
    "        # maximize ELBO <==> minimize (ReconstructionLoss + KL_div)\n",
    "        loss = (reconst_loss + kl_div)   # type(loss) = torch.Tensor\n",
    "        optimizer.zero_grad()\n",
    "        loss.backward()\n",
    "        optimizer.step()\n",
    "        \n",
    "        # ================== SHOW TRAINING PROGRESS ==========================\n",
    "        ELBO_all.append(-loss.item() if -loss.item() < -810 else -810)\n",
    "        loglikelihood_all.append(-reconst_loss.item() if -reconst_loss.item() < -810 else -810)\n",
    "        KL_div_all.append(kl_div.item())\n",
    "        if (i%100)==0:\n",
    "            print(\"Epoch[{}/{}], Step [{}/{}], Reconst Loss: {:.2f}, KL Div: {:.2f}, ELBO: {:.2f}\" \n",
    "                   .format(epoch+1, num_epochs, i+1, len(data_loader), reconst_loss.item(), kl_div.item(), -loss.item()))"
   ]
  },
  {
   "cell_type": "markdown",
   "metadata": {},
   "source": [
    "* Plot training curves"
   ]
  },
  {
   "cell_type": "code",
   "execution_count": 76,
   "metadata": {},
   "outputs": [],
   "source": [
    "def plot(data_y1,data_y2=None,data_x1=None,data_x2=None,x_label=None,y_label=None,title=None,\n",
    "        xlimit=None,ylimit=None,figsize=(8,4)):\n",
    "    fig = plt.figure(figsize=figsize)\n",
    "    ax1 = fig.add_subplot(111)\n",
    "    if data_x1 != None:\n",
    "        ax1.plot(data_x1,data_y1)\n",
    "    else:\n",
    "        ax1.plot(data_y1)\n",
    "    if data_y2 != None and data_x2!=None:\n",
    "        ax1.plot(data_x2,data_y2)\n",
    "    elif data_y2 != None:\n",
    "        ax1.plot(data_y2)\n",
    "    ax1.set_ylabel(y_label)\n",
    "    ax1.set_xlabel(x_label)\n",
    "    ax1.set_title(title)\n",
    "    plt.xlim(xlimit)\n",
    "    plt.ylim(ylimit)\n",
    "    plt.show()"
   ]
  },
  {
   "cell_type": "code",
   "execution_count": 81,
   "metadata": {},
   "outputs": [
    {
     "data": {
      "image/png": "[encoded data removed]",
      "text/plain": [
       "<Figure size 288x432 with 1 Axes>"
      ]
     },
     "metadata": {
      "needs_background": "light"
     },
     "output_type": "display_data"
    }
   ],
   "source": [
    "loglikelihood_all = np.array(loglikelihood_all)\n",
    "plot(data_y1=loglikelihood_all[(loglikelihood_all>-870)&(loglikelihood_all<-790)][:15000],\n",
    "     data_x1=None,x_label='n_iter',\n",
    "     y_label='Log-likelihood',title='Log-likelihood vs num of updates',\n",
    "     figsize = (4,6))"
   ]
  },
  {
   "cell_type": "code",
   "execution_count": 84,
   "metadata": {},
   "outputs": [
    {
     "data": {
      "image/png": "[encoded data removed]",
      "text/plain": [
       "<Figure size 288x432 with 1 Axes>"
      ]
     },
     "metadata": {
      "needs_background": "light"
     },
     "output_type": "display_data"
    }
   ],
   "source": [
    "KL_div_all = np.array(KL_div_all)\n",
    "plot(data_y1=KL_div_all[KL_div_all<1e5][:20000],\n",
    "     data_x1=None,x_label='n_iter',\n",
    "     y_label='KL_divergence',title='KL Divergence vs num of updates',\n",
    "    figsize=(4,6))\n"
   ]
  },
  {
   "cell_type": "code",
   "execution_count": 71,
   "metadata": {},
   "outputs": [
    {
     "data": {
      "image/png": "[encoded data removed]",
      "text/plain": [
       "<Figure size 576x288 with 1 Axes>"
      ]
     },
     "metadata": {
      "needs_background": "light"
     },
     "output_type": "display_data"
    }
   ],
   "source": [
    "ELBO_all = np.array(ELBO_all)\n",
    "plot(data_y1=ELBO_all[(ELBO_all>-880)],\n",
    "     data_x1=None,x_label='n_iter',\n",
    "     y_label='ELBO',title='ELBO vs num of updates')"
   ]
  },
  {
   "cell_type": "markdown",
   "metadata": {},
   "source": [
    "## Prediction"
   ]
  },
  {
   "cell_type": "code",
   "execution_count": 50,
   "metadata": {},
   "outputs": [],
   "source": [
    "def calculate_sample_reconst_loss(mu,log_var,sample):\n",
    "    \"\"\"\n",
    "    mu: 1*n_features, vector\n",
    "    var: 1*n_features, vector\n",
    "    \"\"\"\n",
    "    loss = calculate_reconst_loss(sample, mu, log_var)\n",
    "\n",
    "    return loss.item()"
   ]
  },
  {
   "cell_type": "code",
   "execution_count": 49,
   "metadata": {
    "scrolled": true
   },
   "outputs": [
    {
     "name": "stdout",
     "output_type": "stream",
     "text": [
      "[0/56863] samples finished\n",
      "[1000/56863] samples finished\n",
      "[2000/56863] samples finished\n",
      "[3000/56863] samples finished\n",
      "[4000/56863] samples finished\n",
      "[5000/56863] samples finished\n",
      "[6000/56863] samples finished\n",
      "[7000/56863] samples finished\n",
      "[8000/56863] samples finished\n",
      "[9000/56863] samples finished\n",
      "[10000/56863] samples finished\n",
      "[11000/56863] samples finished\n",
      "[12000/56863] samples finished\n",
      "[13000/56863] samples finished\n",
      "[14000/56863] samples finished\n",
      "[15000/56863] samples finished\n",
      "[16000/56863] samples finished\n",
      "[17000/56863] samples finished\n",
      "[18000/56863] samples finished\n",
      "[19000/56863] samples finished\n",
      "[20000/56863] samples finished\n",
      "[21000/56863] samples finished\n",
      "[22000/56863] samples finished\n",
      "[23000/56863] samples finished\n",
      "[24000/56863] samples finished\n",
      "[25000/56863] samples finished\n",
      "[26000/56863] samples finished\n",
      "[27000/56863] samples finished\n",
      "[28000/56863] samples finished\n",
      "[29000/56863] samples finished\n",
      "[30000/56863] samples finished\n",
      "[31000/56863] samples finished\n",
      "[32000/56863] samples finished\n",
      "[33000/56863] samples finished\n",
      "[34000/56863] samples finished\n",
      "[35000/56863] samples finished\n",
      "[36000/56863] samples finished\n",
      "[37000/56863] samples finished\n",
      "[38000/56863] samples finished\n",
      "[39000/56863] samples finished\n",
      "[40000/56863] samples finished\n",
      "[41000/56863] samples finished\n",
      "[42000/56863] samples finished\n",
      "[43000/56863] samples finished\n",
      "[44000/56863] samples finished\n",
      "[45000/56863] samples finished\n",
      "[46000/56863] samples finished\n",
      "[47000/56863] samples finished\n",
      "[48000/56863] samples finished\n",
      "[49000/56863] samples finished\n",
      "[50000/56863] samples finished\n",
      "[51000/56863] samples finished\n",
      "[52000/56863] samples finished\n",
      "[53000/56863] samples finished\n",
      "[54000/56863] samples finished\n",
      "[55000/56863] samples finished\n",
      "[56000/56863] samples finished\n",
      "[0/492] samples finished\n"
     ]
    }
   ],
   "source": [
    "def getReconstLoss(data,n_sample=100):\n",
    "    result = []\n",
    "    for i in range(data.shape[0]):\n",
    "        if (i%1000==0):\n",
    "            print('[%d/%d] samples finished' %(i,data.shape[0]))\n",
    "        train_scaled_tensor = torch.from_numpy(data[i])\n",
    "        reconst_loss = 0\n",
    "        sample = train_scaled_tensor.float()   # \n",
    "        with torch.no_grad():\n",
    "            _, _, mu_reconst, log_var_reconst = model(sample)\n",
    "            reconst_loss = calculate_sample_reconst_loss(mu_reconst, \n",
    "                                                         log_var_reconst,\n",
    "                                                         sample) \n",
    "            result.append(reconst_loss)\n",
    "    return np.array(result)\n",
    "reconst_loss_normal = getReconstLoss(test_normal)\n",
    "reconst_loss_fraud = getReconstLoss(test_fraud)"
   ]
  },
  {
   "cell_type": "markdown",
   "metadata": {},
   "source": [
    "## Evaluation"
   ]
  },
  {
   "cell_type": "code",
   "execution_count": 72,
   "metadata": {},
   "outputs": [
    {
     "data": {
      "text/plain": [
       "Text(0.5, 1.0, 'Distribution of Reconstruction Loss')"
      ]
     },
     "execution_count": 72,
     "metadata": {},
     "output_type": "execute_result"
    },
    {
     "data": {
      "image/png": "[encoded data removed]",
      "text/plain": [
       "<Figure size 576x288 with 1 Axes>"
      ]
     },
     "metadata": {
      "needs_background": "light"
     },
     "output_type": "display_data"
    }
   ],
   "source": [
    "import seaborn as sns\n",
    "%matplotlib inline\n",
    "plt.figure(figsize=(8,4))\n",
    "plt.hist([reconst_loss_normal[7000:8000],\n",
    "          reconst_loss_fraud],80,label=['non-fraud','frauud']);\n",
    "plt.legend(loc='best')\n",
    "plt.xlabel('Reconstructioon Loss')\n",
    "plt.ylabel('Count')\n",
    "plt.title('Distribution of Reconstruction Loss')"
   ]
  },
  {
   "cell_type": "code",
   "execution_count": 53,
   "metadata": {},
   "outputs": [],
   "source": [
    "label_fraud = np.ones(shape=reconst_loss_fraud.shape)\n",
    "label_normal = np.zeros(shape=reconst_loss_normal.shape)\n",
    "label_all = np.concatenate((label_fraud , label_normal))\n",
    "reconst_loss_all = np.concatenate((reconst_loss_fraud, reconst_loss_normal))"
   ]
  },
  {
   "cell_type": "code",
   "execution_count": 54,
   "metadata": {},
   "outputs": [
    {
     "data": {
      "image/png": "[encoded data removed]",
      "text/plain": [
       "<Figure size 432x288 with 1 Axes>"
      ]
     },
     "metadata": {
      "needs_background": "light"
     },
     "output_type": "display_data"
    }
   ],
   "source": [
    "fpr_vae, tpr_vae, threshold = roc_curve(label_all, reconst_loss_all)\n",
    "auc_vae = roc_auc_score(label_all, reconst_loss_all)\n",
    "\n",
    "plt.figure(figsize=(6,4))\n",
    "plt.plot(fpr_vae,tpr_vae,label=\"VAE ROC Curve, auc= %.3f\"%(auc_vae))\n",
    "plt.title('VAE Roc Curve')\n",
    "# plt.ylabel(\"True Positive Rate\")\n",
    "plt.xlabel(\"False Positive Rate\")\n",
    "plt.legend(loc='best')\n",
    "plt.show()"
   ]
  },
  {
   "cell_type": "code",
   "execution_count": 55,
   "metadata": {},
   "outputs": [
    {
     "name": "stdout",
     "output_type": "stream",
     "text": [
      "Optimal Threshold of Neg. Log Likelihood is 847.326, with TPR= 0.856, FPR= 0.047\n"
     ]
    }
   ],
   "source": [
    "idx_optimal = np.argmax(tpr_vae-fpr_vae) # optimal point on ROC curve\n",
    "threshold_optimal = threshold[idx_optimal]\n",
    "tpr_optimal, fpr_optimal = tpr_vae[idx_optimal], fpr_vae[idx_optimal]\n",
    "print(\"Optimal Threshold of Neg. Log Likelihood is %.3f, with TPR= %.3f, FPR= %.3f\" \n",
    "      %(threshold_optimal,tpr_optimal,fpr_optimal))"
   ]
  },
  {
   "cell_type": "code",
   "execution_count": 56,
   "metadata": {},
   "outputs": [],
   "source": [
    "def calculate_fnr(y_true,y_pred):\n",
    "    confMat = confusion_matrix(y_true,y_pred)\n",
    "    FN = confMat[1,0]\n",
    "    TP = confMat[1,1]\n",
    "    FNR = FN/(TP+FN)\n",
    "    return FNR"
   ]
  },
  {
   "cell_type": "code",
   "execution_count": 57,
   "metadata": {},
   "outputs": [
    {
     "name": "stdout",
     "output_type": "stream",
     "text": [
      "FNR of VAE is 14.43%\n"
     ]
    }
   ],
   "source": [
    "def vae_prediction(nll,thres):\n",
    "    result = []\n",
    "    for item in nll:\n",
    "        if item>=thres:\n",
    "            result.append(1)\n",
    "        else:\n",
    "            result.append(0)\n",
    "    return np.array(result)\n",
    "y_pred_vae = vae_prediction(reconst_loss_all, threshold_optimal)\n",
    "FNR = calculate_fnr(label_all,y_pred_vae)\n",
    "print(\"FNR of VAE is %.2f%%\" %(FNR*100))"
   ]
  },
  {
   "cell_type": "markdown",
   "metadata": {},
   "source": [
    "## Comparison with Random Forest and Logistic Reg."
   ]
  },
  {
   "cell_type": "markdown",
   "metadata": {},
   "source": [
    "### Prepare data for supervised model"
   ]
  },
  {
   "cell_type": "code",
   "execution_count": 58,
   "metadata": {},
   "outputs": [],
   "source": [
    "df_scaled_normal = df_scaled[df_scaled.Class == 0]\n",
    "df_scaled_fraud = df_scaled[df_scaled.Class == 1]\n",
    "train_normal_tree, test_normal_tree = train_test_split(df_scaled_normal, test_size=0.8) # reduce imbalance\n",
    "train_fraud_tree,test_fraud_tree = train_test_split(df_scaled_fraud, test_size=0.2)\n",
    "train_normal_tree = train_normal_tree.drop(['Class'], axis=1)  # drop the class column\n",
    "train_fraud_tree = train_fraud_tree.drop(['Class'], axis=1)  # drop the class column\n",
    "test_normal_tree = test_normal_tree.drop(['Class'], axis=1)    # drop the class column\n",
    "test_fraud_tree = test_fraud_tree.drop(['Class'],axis=1)\n",
    "\n",
    "X_train = np.concatenate((train_normal_tree,train_fraud_tree))\n",
    "y_normal = np.zeros(shape=train_normal_tree.shape[0])\n",
    "y_fraud = np.ones(shape=train_fraud_tree.shape[0])\n",
    "y_train = np.concatenate((y_normal,y_fraud))\n",
    "\n",
    "\n",
    "X_test = np.concatenate((test_normal_tree,test_fraud_tree))\n",
    "y_normal = np.zeros(shape=test_normal_tree.shape[0])\n",
    "y_fraud = np.ones(shape=test_fraud_tree.shape[0])\n",
    "y_test = np.concatenate((y_normal,y_fraud))\n"
   ]
  },
  {
   "cell_type": "markdown",
   "metadata": {},
   "source": [
    "### Random Forest"
   ]
  },
  {
   "cell_type": "code",
   "execution_count": 60,
   "metadata": {},
   "outputs": [
    {
     "name": "stdout",
     "output_type": "stream",
     "text": [
      "[[227308    144]\n",
      " [    17     82]]\n"
     ]
    }
   ],
   "source": [
    "clf = RandomForestClassifier(n_estimators=100,max_depth=1,n_jobs=-1)\n",
    "clf.fit(X_train[-2000:],y_train[-2000:])\n",
    "y_prob_rf = clf.predict_proba(X_test)[:,1]\n",
    "y_pred_rf = (np.sign(y_prob_rf-0.5)+1)/2\n",
    "y_pred_rf = y_pred_rf.astype(int)\n",
    "print(confusion_matrix(y_test,y_pred_rf))"
   ]
  },
  {
   "cell_type": "code",
   "execution_count": 61,
   "metadata": {},
   "outputs": [
    {
     "name": "stdout",
     "output_type": "stream",
     "text": [
      "Optimal threshold_roc of Prob. is 0.35\n",
      "True Pos. Rate for Random Forest: 85.86%\n",
      "False Neg. Rate for Random Forest: 17.17%\n",
      "False Pos. Rate for Random Forest: 0.28%\n"
     ]
    }
   ],
   "source": [
    "fpr_rf, tpr_rf, threshold_roc = roc_curve(y_test, y_prob_rf)\n",
    "\n",
    "idx_optimal = np.argmax(tpr_rf-fpr_rf) # optimal point on ROC curve\n",
    "threshold_roc_optimal = threshold_roc[idx_optimal]\n",
    "tpr_optimal, fpr_optimal = tpr_rf[idx_optimal], fpr_rf[idx_optimal]\n",
    "print(\"Optimal threshold_roc of Prob. is %.2f\"%(threshold_roc_optimal))\n",
    "\n",
    "fnr_rf =  calculate_fnr(y_test,y_pred_rf)\n",
    "print('True Pos. Rate for Random Forest: %.2f%%' % (tpr_optimal*100))\n",
    "print('False Neg. Rate for Random Forest: %.2f%%' % (fnr_rf*100))\n",
    "print('False Pos. Rate for Random Forest: %.2f%%' % (fpr_optimal*100))"
   ]
  },
  {
   "cell_type": "code",
   "execution_count": 90,
   "metadata": {},
   "outputs": [
    {
     "data": {
      "image/png": "[encoded data removed]",
      "text/plain": [
       "<Figure size 432x288 with 1 Axes>"
      ]
     },
     "metadata": {
      "needs_background": "light"
     },
     "output_type": "display_data"
    }
   ],
   "source": [
    "auc_rf = roc_auc_score(y_test, y_prob_rf)\n",
    "plt.plot(fpr_rf,tpr_rf,label=\"Roc curve - RF, auc=\"+str(auc_rf))\n",
    "plt.title('Random Forest Roc Curve')\n",
    "plt.ylabel('True Positive Rate')\n",
    "plt.xlabel(\"False Positive Rate\")\n",
    "plt.legend(loc='best')\n",
    "plt.show()"
   ]
  },
  {
   "cell_type": "markdown",
   "metadata": {},
   "source": [
    "### Logistic Regression"
   ]
  },
  {
   "cell_type": "code",
   "execution_count": 63,
   "metadata": {},
   "outputs": [],
   "source": [
    "from sklearn.linear_model import LogisticRegression"
   ]
  },
  {
   "cell_type": "code",
   "execution_count": 64,
   "metadata": {},
   "outputs": [
    {
     "name": "stderr",
     "output_type": "stream",
     "text": [
      "/Users/joecao/opt/anaconda3/lib/python3.7/site-packages/sklearn/linear_model/logistic.py:432: FutureWarning: Default solver will be changed to 'lbfgs' in 0.22. Specify a solver to silence this warning.\n",
      "  FutureWarning)\n"
     ]
    },
    {
     "name": "stdout",
     "output_type": "stream",
     "text": [
      "[[227383     69]\n",
      " [    20     79]]\n"
     ]
    }
   ],
   "source": [
    "clf = LogisticRegression(random_state=0,C=1)\n",
    "clf.fit(X_train[:],y_train[:])\n",
    "y_prob_lr = clf.predict_proba(X_test)[:,1]\n",
    "y_pred_lr = (np.sign(y_prob_lr-0.5)+1)/2\n",
    "y_pred_lr = y_pred_lr.astype(int)\n",
    "print(confusion_matrix(y_test,y_pred_lr))"
   ]
  },
  {
   "cell_type": "code",
   "execution_count": 91,
   "metadata": {},
   "outputs": [
    {
     "name": "stdout",
     "output_type": "stream",
     "text": [
      "Optimal Threshold of Prob. is 0.01\n",
      "True Pos. Rate for Logistic Regression: 90.91%\n",
      "False Neg. Rate for Logistic Regression: 20.20%\n",
      "False Pos. Rate for Logistic Regression: 1.65%\n"
     ]
    },
    {
     "data": {
      "image/png": "[encoded data removed]",
      "text/plain": [
       "<Figure size 432x288 with 1 Axes>"
      ]
     },
     "metadata": {
      "needs_background": "light"
     },
     "output_type": "display_data"
    }
   ],
   "source": [
    "fpr_lr, tpr_lr, threshold = roc_curve(y_test, y_prob_lr)\n",
    "\n",
    "idx_optimal = np.argmax(tpr_lr-fpr_lr) # optimal point on ROC curve\n",
    "threshold_optimal = threshold[idx_optimal]\n",
    "tpr_lr_optimal, fpr_lr_optimal = tpr_lr[idx_optimal], fpr_lr[idx_optimal]\n",
    "print(\"Optimal Threshold of Prob. is %.2f\"%(threshold_optimal))\n",
    "\n",
    "fnr_lr =  calculate_fnr(y_test,y_pred_lr)\n",
    "print('True Pos. Rate for Logistic Regression: %.2f%%' % (tpr_lr_optimal*100))\n",
    "print('False Neg. Rate for Logistic Regression: %.2f%%' % (fnr_lr*100))\n",
    "print('False Pos. Rate for Logistic Regression: %.2f%%' % (fpr_lr_optimal*100))\n",
    "\n",
    "auc_lr = roc_auc_score(y_test, y_prob_lr)\n",
    "plt.plot(fpr_lr,tpr_lr,label=\"ROC Curve, LR, auc=\"+str(auc_lr))\n",
    "plt.title('Logistic Regression Roc Curve')\n",
    "plt.ylabel('True Positive Rate')\n",
    "plt.xlabel(\"False Positive Rate\")\n",
    "plt.legend(loc='best')\n",
    "plt.show()"
   ]
  },
  {
   "cell_type": "markdown",
   "metadata": {},
   "source": [
    "### Plot ROC curves of three models"
   ]
  },
  {
   "cell_type": "code",
   "execution_count": 73,
   "metadata": {},
   "outputs": [
    {
     "data": {
      "image/png": "[encoded data removed]",
      "text/plain": [
       "<Figure size 576x288 with 1 Axes>"
      ]
     },
     "metadata": {
      "needs_background": "light"
     },
     "output_type": "display_data"
    }
   ],
   "source": [
    "\n",
    "plt.figure(figsize=(8,4))\n",
    "plt.plot(fpr_vae,tpr_vae,label=\"VAE, auc=%.3f\"%(auc_vae))\n",
    "plt.plot(fpr_rf,tpr_rf,label=\"Random Forest, auc=%.4f\"%(auc_rf)) # plotting t, a separately \n",
    "plt.plot(fpr_lr,tpr_lr,label=\"Logistic Regresson, auc=%.4f\"%(auc_lr)) # plotting t, b separately \n",
    "plt.ylabel('True Positive Rate')\n",
    "plt.xlabel(\"False Positive Rate\")\n",
    "plt.legend(loc='best')\n",
    "plt.title('ROC Curve of Different Models')\n",
    "plt.show()"
   ]
  }
 ],
 "metadata": {
  "kernelspec": {
   "display_name": "Python 3",
   "language": "python",
   "name": "python3"
  },
  "language_info": {
   "codemirror_mode": {
    "name": "ipython",
    "version": 3
   },
   "file_extension": ".py",
   "mimetype": "text/x-python",
   "name": "python",
   "nbconvert_exporter": "python",
   "pygments_lexer": "ipython3",
   "version": "3.7.4"
  },
  "toc": {
   "base_numbering": 1,
   "nav_menu": {},
   "number_sections": false,
   "sideBar": true,
   "skip_h1_title": false,
   "title_cell": "Table of Contents",
   "title_sidebar": "Contents",
   "toc_cell": false,
   "toc_position": {},
   "toc_section_display": true,
   "toc_window_display": false
  }
 },
 "nbformat": 4,
 "nbformat_minor": 2
}
